{
 "cells": [
  {
   "cell_type": "raw",
   "id": "890eea33-70df-4cb4-aefc-7694bc39f7d6",
   "metadata": {},
   "source": [
    "Q.1\n",
    "ANS:In Python, a tuple is a collection of ordered, immutable (unchangeable) elements."
   ]
  },
  {
   "cell_type": "raw",
   "id": "f4f69199-249c-4213-bb63-0b3d76549ff6",
   "metadata": {},
   "source": [
    "Q.2\n",
    "ANS:In Python, you can create a tuple using parentheses () to enclose the elements. Here's how you can create tuples:"
   ]
  },
  {
   "cell_type": "raw",
   "id": "be6cf552-21f6-401b-969c-c6d66a71cd4e",
   "metadata": {},
   "source": [
    "Q.3\n",
    "ANS:Tuples and lists are both data structures in Python that allow you to store collections of values, but they have some key differences in terms of mutability, syntax, and use "
   ]
  },
  {
   "cell_type": "raw",
   "id": "0b220458-5b43-4b80-adbe-b2dca818c4d2",
   "metadata": {},
   "source": [
    "Q.4\n",
    "ANS:No, a tuple cannot be changed in Python after it's created. Tuples are immutable, which means their elements cannot be modified, added, or removed once the tuple is created. Once a tuple is defined, it remains fixed throughout its lifetime."
   ]
  },
  {
   "cell_type": "raw",
   "id": "99442868-5191-4d5d-992d-e584a4ee180b",
   "metadata": {},
   "source": [
    "Q.5\n",
    "ANS  : You can access elements in a tuple using indexing, similar to how you access elements in a list. Tuple indexing starts at 0 for the first element and continues sequentially for the rest of the elements. "
   ]
  },
  {
   "cell_type": "code",
   "execution_count": null,
   "id": "4c93da16-916c-4686-8417-cf36293ce577",
   "metadata": {},
   "outputs": [],
   "source": []
  }
 ],
 "metadata": {
  "kernelspec": {
   "display_name": "Python 3 (ipykernel)",
   "language": "python",
   "name": "python3"
  },
  "language_info": {
   "codemirror_mode": {
    "name": "ipython",
    "version": 3
   },
   "file_extension": ".py",
   "mimetype": "text/x-python",
   "name": "python",
   "nbconvert_exporter": "python",
   "pygments_lexer": "ipython3",
   "version": "3.10.8"
  }
 },
 "nbformat": 4,
 "nbformat_minor": 5
}
